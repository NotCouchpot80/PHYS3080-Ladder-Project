{
 "cells": [
  {
   "cell_type": "markdown",
   "id": "1922258c",
   "metadata": {
    "tags": []
   },
   "source": [
    "## Setup Project\n",
    "Import used packages\n"
   ]
  },
  {
   "cell_type": "code",
   "execution_count": 1,
   "id": "73443773",
   "metadata": {
    "tags": []
   },
   "outputs": [],
   "source": [
    "# import required libraries\n",
    "import os\n",
    "import numpy as np\n",
    "import scipy as sp\n",
    "import matplotlib as mpl\n",
    "import matplotlib.pyplot as plt\n",
    "from astropy.table import Table\n",
    "import glob\n",
    "import warnings\n",
    "from sklearn import mixture\n",
    "from sklearn.neighbors import KernelDensity\n",
    "import itertools\n",
    "import seaborn as sns\n",
    "from sklearn.utils.fixes import parse_version"
   ]
  },
  {
   "cell_type": "markdown",
   "id": "2998e50d-c85e-48d2-bc75-b63ab8d3cc3b",
   "metadata": {},
   "source": [
    "Setup global plot settings"
   ]
  },
  {
   "cell_type": "code",
   "execution_count": 2,
   "id": "00b102b3-5bd6-4e0d-8deb-d3eb7269c216",
   "metadata": {
    "tags": []
   },
   "outputs": [
    {
     "name": "stdout",
     "output_type": "stream",
     "text": [
      "Populating the interactive namespace from numpy and matplotlib\n"
     ]
    }
   ],
   "source": [
    "\n",
    "# configure notebook for plotting\n",
    "%pylab inline --no-import-all \n",
    "mpl.style.use('seaborn-colorblind') # colourblind-friendly colour scheme\n",
    "colours = mpl.rcParams['axes.prop_cycle'].by_key()['color'] # allows access to colours\n",
    "# subsequent lines default plot settings\n",
    "matplotlib.rcParams['image.origin'] = 'lower'\n",
    "matplotlib.rcParams['figure.figsize']=(20,20)  \n",
    "matplotlib.rcParams['font.size']=16    \n",
    "matplotlib.rcParams['savefig.dpi']= 300   \n",
    "warnings.filterwarnings('ignore')\n"
   ]
  },
  {
   "cell_type": "markdown",
   "id": "6cc52b5c-5706-488e-a7e1-6834d04a88d5",
   "metadata": {
    "tags": []
   },
   "source": [
    "## Data entry and preparation\n",
    "Enter data file location and initiate variables"
   ]
  },
  {
   "cell_type": "code",
   "execution_count": 3,
   "id": "ad6d93b9",
   "metadata": {
    "tags": []
   },
   "outputs": [],
   "source": [
    "\n",
    "# import data from Data directory\n",
    "allPointsFiles = glob.glob('../Data/*/*/points.txt')\n",
    "allFuzzyFiles = glob.glob('../Data/*/*/fuzzy.txt')\n",
    "allVaryingPointFiles = glob.glob('../Data/*/*/P*.csv')\n",
    "allXrayFiles = glob.glob('../Data/XrayFlash.txt')\n",
    "farPoints = []\n",
    "midPoints = []\n",
    "closePoints = []\n",
    "variablePoints = []\n",
    "xRayPoints = []\n",
    "totalPoints = 0\n"
   ]
  },
  {
   "cell_type": "markdown",
   "id": "e9b8f216-cc18-493e-aa3c-22fb741f2fe3",
   "metadata": {
    "tags": []
   },
   "source": [
    "### Import and prepare Points\n",
    "Iterate through points files and categorize points into close and far points, where close points can be measured by parallax accurately.\\\n",
    "Convert to useful data types in process.\\\n",
    "                      0    1  2     3     4          5                    6                 7\n",
    "points data format: [Name, x, y, parsec, HRx, Absolute magnitude, Apparent magnitude, Radial Velocity]"
   ]
  },
  {
   "cell_type": "code",
   "execution_count": 4,
   "id": "a0aa816b-0134-4a59-98af-c22a8b8fbcce",
   "metadata": {
    "tags": []
   },
   "outputs": [],
   "source": [
    "for j, pointsFile in enumerate(allPointsFiles):\n",
    "    try:\n",
    "        this = Table.read(pointsFile,format='ascii')\n",
    "        totalPoints= totalPoints+len(this)\n",
    "        thispar = this['par']\n",
    "        thism0, thism1, thism2 = (np.log10(this['flux1']), \n",
    "                                  np.log10(this['flux2']), \n",
    "                                  np.log10(this['flux3']))\n",
    "        thiscolour = thism2-thism0\n",
    "        dist = 1/thispar\n",
    "        abs_mag = thism1 + 2*np.log10(dist)\n",
    "        \n",
    "        # transform coords onto \"sky net\" based on file path and store in numpy array          \n",
    "        if pointsFile.rfind('Up')!=-1:\n",
    "            points = np.array([this['name'], this['y'], -this['x']+90, thispar, thiscolour, abs_mag, thism1, this['rv']]).T.tolist()\n",
    "        elif pointsFile.rfind('Front')!=-1:\n",
    "            points = np.array([this['name'], this['y']-90, -this['x']+90, thispar, thiscolour, abs_mag, thism1, this['rv']]).T.tolist()\n",
    "        elif pointsFile.rfind('Right')!=-1:\n",
    "            points = np.array([this['name'], this['x'], this['y'], thispar, thiscolour, abs_mag, thism1, this['rv']]).T.tolist()\n",
    "        elif pointsFile.rfind('Back')!=-1:\n",
    "            points = np.array([this['name'], this['x']+90, this['y'], thispar, thiscolour, abs_mag, thism1, this['rv']]).T.tolist()\n",
    "        elif pointsFile.rfind('Left')!=-1:\n",
    "            points = np.array([this['name'], this['y']-90, -this['x']+180, thispar, thiscolour, abs_mag, thism1, this['rv']]).T.tolist()\n",
    "        elif pointsFile.rfind('Down')!=-1:\n",
    "            points = np.array([this['name'], this['y'], -this['x']-90, thispar, thiscolour, abs_mag, thism1, this['rv']]).T.tolist()\n",
    "            \n",
    "        # sort into close and far\n",
    "        for point in points:\n",
    "            if float(point[3]) > 0.006:\n",
    "                closePoints.append(point)\n",
    "            elif float(point[3]) < 0.004:# value chosen to minimize clusters being assigned to mid distance\n",
    "                farPoints.append(point)   \n",
    "            else:\n",
    "                midPoints.append(point)  \n",
    "    except:\n",
    "        pass\n",
    "closePointsNumpy=np.array(closePoints)\n",
    "midPointsNumpy=np.array(midPoints)\n",
    "farPointsNumpy=np.array(farPoints)\n",
    "\n",
    "\n",
    "allPointsNumpy=np.concatenate((closePointsNumpy, midPointsNumpy, farPointsNumpy))"
   ]
  },
  {
   "cell_type": "markdown",
   "id": "186e578f-333c-4c24-9881-80b07749d800",
   "metadata": {},
   "source": [
    "### Import and prepare variable points"
   ]
  },
  {
   "cell_type": "code",
   "execution_count": 5,
   "id": "6618f708-2ce3-45f6-a4d3-65531dc89981",
   "metadata": {
    "tags": []
   },
   "outputs": [
    {
     "name": "stdout",
     "output_type": "stream",
     "text": [
      "Failed: shape mismatch: indexing arrays could not be broadcast together with shapes (2,) (5,) \n",
      "P01003\n",
      "Failed: shape mismatch: indexing arrays could not be broadcast together with shapes (2,) (5,) \n",
      "P01003\n"
     ]
    }
   ],
   "source": [
    "\n",
    "for j, varsFile in enumerate(allVaryingPointFiles):\n",
    "    \n",
    "    try:\n",
    "        thisVar = np.array(Table.read(varsFile,format='ascii'))\n",
    "        name = varsFile[-10:-4]\n",
    "        basicData=allPointsNumpy[allPointsNumpy[:,0]==name,[1,2,3,4,6]]\n",
    "        variablePoint=np.array([name,thisVar,basicData[0],basicData[1],basicData[2],basicData[3],basicData[4]])\n",
    "        variablePoints.append(variablePoint)\n",
    "    except Exception as e:\n",
    "        print('Failed: '+ str(e))\n",
    "        print(varsFile[-10:-4])\n",
    "        pass\n",
    "variablePointsNumpy=np.array(variablePoints)"
   ]
  },
  {
   "cell_type": "markdown",
   "id": "71eb5920-f64e-494a-87e1-786ebcbf789d",
   "metadata": {
    "tags": []
   },
   "source": [
    "### Categorise and process Fuzzies\n",
    "A similar process as used on the points data"
   ]
  },
  {
   "cell_type": "markdown",
   "id": "62598260-c1c0-4a27-9964-6564ff5712f3",
   "metadata": {
    "tags": []
   },
   "source": [
    "### Import and prepare Xray flashes\n"
   ]
  },
  {
   "cell_type": "code",
   "execution_count": 6,
   "id": "5a93e5ad-edc3-4616-b602-f124cef2b049",
   "metadata": {
    "tags": []
   },
   "outputs": [],
   "source": [
    "for j, XrayFiles in enumerate(allXrayFiles):\n",
    "    try:\n",
    "        this = Table.read(XrayFiles,format='ascii')\n",
    "        for line in this:\n",
    "            # transform coords onto \"sky net\" based on file path and store in numpy array          \n",
    "            if line['Camera']==('Up'):\n",
    "                Xrays = np.array([line['y'], -line['x']+90, line['mag']]).T.tolist()\n",
    "            elif line['Camera']==('Front'):\n",
    "                Xrays = np.array([ line['y']-90, -line['x']+90, line['mag']]).T.tolist()\n",
    "            elif line['Camera']==('Right'):\n",
    "                Xrays = np.array([ line['x'], line['y'], line['mag']]).T.tolist()\n",
    "            elif line['Camera']==('Back'):\n",
    "                Xrays = np.array([line['x']+90, line['y'], line['mag']]).T.tolist()\n",
    "            elif line['Camera']==('Left'):\n",
    "                Xrays = np.array([ line['y']-90, -line['x']+180, line['mag']]).T.tolist()\n",
    "            elif line['Camera']==('Down'):\n",
    "                Xrays = np.array([ line['y'], -line['x']-90, line['mag']]).T.tolist()\n",
    "\n",
    "            xRayPoints.append(Xrays)\n",
    "    except Exception as e:\n",
    "        logger.error('Failed: '+ str(e))\n",
    "        pass\n",
    "xRayPointsNumpy=np.array(xRayPoints)"
   ]
  },
  {
   "cell_type": "markdown",
   "id": "38034a6a-b27b-4e97-95e2-2e1df53fb939",
   "metadata": {
    "tags": []
   },
   "source": [
    "## Check Data Entry\n",
    "A star map to check all are present, a benchmark HR diagram and a cluster map."
   ]
  },
  {
   "cell_type": "markdown",
   "id": "1c16eab4-3c8e-40f3-a4b2-775a1f8dc5d3",
   "metadata": {
    "tags": []
   },
   "source": [
    "### HR Data plot"
   ]
  },
  {
   "cell_type": "code",
   "execution_count": 7,
   "id": "6ad85839-12e0-4f49-bede-8f4776a2e6e1",
   "metadata": {
    "tags": []
   },
   "outputs": [
    {
     "data": {
      "image/png": "[encoded data removed]",
      "text/plain": [
       "<Figure size 1440x1440 with 2 Axes>"
      ]
     },
     "metadata": {
      "needs_background": "light"
     },
     "output_type": "display_data"
    }
   ],
   "source": [
    "figApparentHR = plt.figure()\n",
    "ax1 = figApparentHR.add_subplot(2, 1, 1)\n",
    "allPoints_HRfloats=(np.concatenate((closePointsNumpy[:,[4,6]],midPointsNumpy[:,[4,6]],farPointsNumpy[:,[4,6]]))).astype(np.float)\n",
    "# figure for HR diagram Template\n",
    "plt.ylabel('Apparent magnitude')\n",
    "plt.xlabel('Log Flux 2 - Log Flux 0')\n",
    "plt.title('All Points HR Diagram')\n",
    "plt.scatter((allPoints_HRfloats.T)[0].astype(np.float),(allPoints_HRfloats.T)[1].astype(np.float))\n",
    "plt.grid()\n",
    "\n",
    "ax2 = figApparentHR.add_subplot(2, 1, 2)\n",
    "# MeasurablePoints_HRfloats=(np.concatenate((closePointsNumpy[:,[4,5]],midPointsNumpy[:,[4,5]]))).astype(np.float)\n",
    "# figure for HR diagram Template\n",
    "plt.ylabel('Absolute magnitude')\n",
    "plt.xlabel('Log Flux 2 - Log Flux 0')\n",
    "plt.title('Measurable Points HR Diagram')\n",
    "# plt.scatter((MeasurablePoints_HRfloats.T)[0].astype(np.float),(MeasurablePoints_HRfloats.T)[1].astype(np.float))\n",
    "plt.scatter((closePointsNumpy[:,4]).astype(np.float),(closePointsNumpy[:,5]).astype(np.float))\n",
    "# plt.scatter((midPointsNumpy[:,4]).astype(np.float),(midPointsNumpy[:,5]).astype(np.float))\n",
    "plt.grid()\n"
   ]
  },
  {
   "cell_type": "markdown",
   "id": "cd20fc0d-c5e7-4a03-949e-48573dd608e8",
   "metadata": {
    "tags": []
   },
   "source": [
    "### Unfolded sky map plot"
   ]
  },
  {
   "cell_type": "code",
   "execution_count": 8,
   "id": "2ddfdc76-3031-42e9-9834-d10dd377111e",
   "metadata": {
    "tags": []
   },
   "outputs": [
    {
     "ename": "NameError",
     "evalue": "name 'xRayPointsNumpy' is not defined",
     "output_type": "error",
     "traceback": [
      "\u001b[1;31m---------------------------------------------------------------------------\u001b[0m",
      "\u001b[1;31mNameError\u001b[0m                                 Traceback (most recent call last)",
      "\u001b[1;32m~\\AppData\\Local\\Temp/ipykernel_15588/591060583.py\u001b[0m in \u001b[0;36m<module>\u001b[1;34m\u001b[0m\n\u001b[0;32m      7\u001b[0m \u001b[1;33m\u001b[0m\u001b[0m\n\u001b[0;32m      8\u001b[0m \u001b[0mplt\u001b[0m\u001b[1;33m.\u001b[0m\u001b[0mscatter\u001b[0m\u001b[1;33m(\u001b[0m\u001b[1;33m(\u001b[0m\u001b[0mfarPointsNumpy\u001b[0m\u001b[1;33m.\u001b[0m\u001b[0mT\u001b[0m\u001b[1;33m)\u001b[0m\u001b[1;33m[\u001b[0m\u001b[1;36m1\u001b[0m\u001b[1;33m]\u001b[0m\u001b[1;33m.\u001b[0m\u001b[0mastype\u001b[0m\u001b[1;33m(\u001b[0m\u001b[0mnp\u001b[0m\u001b[1;33m.\u001b[0m\u001b[0mfloat\u001b[0m\u001b[1;33m)\u001b[0m\u001b[1;33m,\u001b[0m\u001b[1;33m(\u001b[0m\u001b[0mfarPointsNumpy\u001b[0m\u001b[1;33m.\u001b[0m\u001b[0mT\u001b[0m\u001b[1;33m)\u001b[0m\u001b[1;33m[\u001b[0m\u001b[1;36m2\u001b[0m\u001b[1;33m]\u001b[0m\u001b[1;33m.\u001b[0m\u001b[0mastype\u001b[0m\u001b[1;33m(\u001b[0m\u001b[0mnp\u001b[0m\u001b[1;33m.\u001b[0m\u001b[0mfloat\u001b[0m\u001b[1;33m)\u001b[0m\u001b[1;33m,\u001b[0m \u001b[0mmarker\u001b[0m \u001b[1;33m=\u001b[0m \u001b[1;34m'.'\u001b[0m\u001b[1;33m)\u001b[0m\u001b[1;33m\u001b[0m\u001b[1;33m\u001b[0m\u001b[0m\n\u001b[1;32m----> 9\u001b[1;33m \u001b[0mplt\u001b[0m\u001b[1;33m.\u001b[0m\u001b[0mscatter\u001b[0m\u001b[1;33m(\u001b[0m\u001b[1;33m(\u001b[0m\u001b[0mxRayPointsNumpy\u001b[0m\u001b[1;33m.\u001b[0m\u001b[0mT\u001b[0m\u001b[1;33m)\u001b[0m\u001b[1;33m[\u001b[0m\u001b[1;36m0\u001b[0m\u001b[1;33m]\u001b[0m\u001b[1;33m.\u001b[0m\u001b[0mastype\u001b[0m\u001b[1;33m(\u001b[0m\u001b[0mnp\u001b[0m\u001b[1;33m.\u001b[0m\u001b[0mfloat\u001b[0m\u001b[1;33m)\u001b[0m\u001b[1;33m,\u001b[0m\u001b[1;33m(\u001b[0m\u001b[0mxRayPointsNumpy\u001b[0m\u001b[1;33m.\u001b[0m\u001b[0mT\u001b[0m\u001b[1;33m)\u001b[0m\u001b[1;33m[\u001b[0m\u001b[1;36m1\u001b[0m\u001b[1;33m]\u001b[0m\u001b[1;33m.\u001b[0m\u001b[0mastype\u001b[0m\u001b[1;33m(\u001b[0m\u001b[0mnp\u001b[0m\u001b[1;33m.\u001b[0m\u001b[0mfloat\u001b[0m\u001b[1;33m)\u001b[0m\u001b[1;33m,\u001b[0m \u001b[0mmarker\u001b[0m \u001b[1;33m=\u001b[0m \u001b[1;34m'x'\u001b[0m\u001b[1;33m)\u001b[0m\u001b[1;33m\u001b[0m\u001b[1;33m\u001b[0m\u001b[0m\n\u001b[0m\u001b[0;32m     10\u001b[0m \u001b[0mplt\u001b[0m\u001b[1;33m.\u001b[0m\u001b[0mscatter\u001b[0m\u001b[1;33m(\u001b[0m\u001b[1;33m(\u001b[0m\u001b[0mvariablePointsNumpy\u001b[0m\u001b[1;33m.\u001b[0m\u001b[0mT\u001b[0m\u001b[1;33m)\u001b[0m\u001b[1;33m[\u001b[0m\u001b[1;36m2\u001b[0m\u001b[1;33m]\u001b[0m\u001b[1;33m.\u001b[0m\u001b[0mastype\u001b[0m\u001b[1;33m(\u001b[0m\u001b[0mnp\u001b[0m\u001b[1;33m.\u001b[0m\u001b[0mfloat\u001b[0m\u001b[1;33m)\u001b[0m\u001b[1;33m,\u001b[0m\u001b[1;33m(\u001b[0m\u001b[0mvariablePointsNumpy\u001b[0m\u001b[1;33m.\u001b[0m\u001b[0mT\u001b[0m\u001b[1;33m)\u001b[0m\u001b[1;33m[\u001b[0m\u001b[1;36m3\u001b[0m\u001b[1;33m]\u001b[0m\u001b[1;33m.\u001b[0m\u001b[0mastype\u001b[0m\u001b[1;33m(\u001b[0m\u001b[0mnp\u001b[0m\u001b[1;33m.\u001b[0m\u001b[0mfloat\u001b[0m\u001b[1;33m)\u001b[0m\u001b[1;33m,\u001b[0m \u001b[0mmarker\u001b[0m \u001b[1;33m=\u001b[0m \u001b[1;34m'*'\u001b[0m\u001b[1;33m)\u001b[0m\u001b[1;33m\u001b[0m\u001b[1;33m\u001b[0m\u001b[0m\n\u001b[0;32m     11\u001b[0m \u001b[0mplt\u001b[0m\u001b[1;33m.\u001b[0m\u001b[0mscatter\u001b[0m\u001b[1;33m(\u001b[0m\u001b[1;33m(\u001b[0m\u001b[0mmidPointsNumpy\u001b[0m\u001b[1;33m.\u001b[0m\u001b[0mT\u001b[0m\u001b[1;33m)\u001b[0m\u001b[1;33m[\u001b[0m\u001b[1;36m1\u001b[0m\u001b[1;33m]\u001b[0m\u001b[1;33m.\u001b[0m\u001b[0mastype\u001b[0m\u001b[1;33m(\u001b[0m\u001b[0mnp\u001b[0m\u001b[1;33m.\u001b[0m\u001b[0mfloat\u001b[0m\u001b[1;33m)\u001b[0m\u001b[1;33m,\u001b[0m\u001b[1;33m(\u001b[0m\u001b[0mmidPointsNumpy\u001b[0m\u001b[1;33m.\u001b[0m\u001b[0mT\u001b[0m\u001b[1;33m)\u001b[0m\u001b[1;33m[\u001b[0m\u001b[1;36m2\u001b[0m\u001b[1;33m]\u001b[0m\u001b[1;33m.\u001b[0m\u001b[0mastype\u001b[0m\u001b[1;33m(\u001b[0m\u001b[0mnp\u001b[0m\u001b[1;33m.\u001b[0m\u001b[0mfloat\u001b[0m\u001b[1;33m)\u001b[0m\u001b[1;33m,\u001b[0m \u001b[0mmarker\u001b[0m \u001b[1;33m=\u001b[0m \u001b[1;34m'+'\u001b[0m\u001b[1;33m)\u001b[0m\u001b[1;33m\u001b[0m\u001b[1;33m\u001b[0m\u001b[0m\n",
      "\u001b[1;31mNameError\u001b[0m: name 'xRayPointsNumpy' is not defined"
     ]
    },
    {
     "data": {
      "image/png": "[encoded data removed]",
      "text/plain": [
       "<Figure size 1440x1440 with 1 Axes>"
      ]
     },
     "metadata": {
      "needs_background": "light"
     },
     "output_type": "display_data"
    }
   ],
   "source": [
    "# figure for HR diagram benchmark\n",
    "skyNet= plt.figure()\n",
    "ax = skyNet.add_subplot(1, 1, 1)\n",
    "plt.ylabel('y')\n",
    "plt.xlabel('x')\n",
    "plt.title('Sky Net')\n",
    "\n",
    "plt.scatter((farPointsNumpy.T)[1].astype(np.float),(farPointsNumpy.T)[2].astype(np.float), marker = '.')\n",
    "plt.scatter((xRayPointsNumpy.T)[0].astype(np.float),(xRayPointsNumpy.T)[1].astype(np.float), marker = 'x')\n",
    "plt.scatter((variablePointsNumpy.T)[2].astype(np.float),(variablePointsNumpy.T)[3].astype(np.float), marker = '*')\n",
    "plt.scatter((midPointsNumpy.T)[1].astype(np.float),(midPointsNumpy.T)[2].astype(np.float), marker = '+')\n",
    "\n",
    "\n",
    "yticksMajor = [-135,-45,45,135,225]\n",
    "yticksMinor = [-90,0,90,180]\n",
    "xticksMajor = [-135,-45,45]\n",
    "xticksMinor = [-90,0]\n",
    "\n",
    "ax.set_xticks(xticksMajor)\n",
    "ax.set_yticks(yticksMajor)\n",
    "ax.set_xticks(xticksMinor, minor=True)\n",
    "ax.set_yticks(yticksMinor, minor=True)\n",
    "plt.grid()"
   ]
  },
  {
   "cell_type": "markdown",
   "id": "8b4fdb62-d90b-4a36-89ae-8a1ace5a5be9",
   "metadata": {
    "tags": []
   },
   "source": [
    "## Pre processing\n",
    "- transform HR diagram data so that y axis runs along main sequence length."
   ]
  },
  {
   "cell_type": "code",
   "execution_count": null,
   "id": "5b56e19e-8920-4b32-868d-4e40b79693e6",
   "metadata": {},
   "outputs": [],
   "source": [
    "# Identify benchmark main seqence cluster with BGMM\n",
    "clusterCount = 4   # clusterCount\n",
    "countStep = 5\n",
    "CountTrials = 3\n",
    "clustersModel = (mixture.BayesianGaussianMixture(\n",
    "                n_components=clusterCount,\n",
    "                covariance_type=\"full\",\n",
    "                n_init = CountTrials\n",
    "                )).fit(closePointsNumpy[:,[4,5]].astype(np.float))    \n",
    "clusterShapes = clustersModel.predict(closePointsNumpy[:,[4,5]].astype(np.float))"
   ]
  },
  {
   "cell_type": "code",
   "execution_count": null,
   "id": "32f7755c-c43e-4206-81f9-f013de4f6e0c",
   "metadata": {
    "tags": []
   },
   "outputs": [],
   "source": [
    "## initiate global variables for nested construction\n",
    "\n",
    "clusters=[]\n",
    "gradient=[]\n",
    "\n",
    "matplotlib.rcParams['figure.figsize']=(12,4)  \n",
    "colorCycle = itertools.cycle(sns.color_palette())\n",
    "clusterPlots=[]\n",
    "clusterPlot=mpl.pyplot.figure()\n",
    "ax1 = clusterPlot.add_subplot(1, 2, 1)\n",
    "\n",
    "## plot identified HR clusters\n",
    "for i, (mean, cov, color, weights) in enumerate(zip(clustersModel.means_, clustersModel.covariances_, colorCycle, clustersModel.weights_)):\n",
    "    if not np.any(clusterShapes == i) or weights<(0.01/clusterCount):\n",
    "        continue        \n",
    "    clusters.append(closePointsNumpy[:,[4,5]][clusterShapes == i, :].astype(np.float))\n",
    "    \n",
    "### Benchmark HR diagram cluster plot with cluster identification ellipses\n",
    "    # plt.grid()\n",
    "    # plt.scatter(closePointsNumpy[:,4].astype(np.float)[clusterShapes == i], closePointsNumpy[:,5].astype(np.float)[clusterShapes == i], color= color, marker ='x')\n",
    "    # angle = np.arctan2(w[0][1], w[0][0])\n",
    "    # angle = 180.0 * angle / np.pi\n",
    "    # v = 2.0 * np.sqrt(2.0) * np.sqrt(v)\n",
    "    # ell1 = mpl.patches.Ellipse(mean, v[0], v[1], 180.0 + angle, color=color)\n",
    "    # ell1.set_clip_box(ax1.bbox)\n",
    "    # ell1.set_alpha(weights)\n",
    "    # ax1.add_artist(ell1)\n",
    "\n",
    "## get Main sequence to fit polynomial\n",
    "clusterSize=0\n",
    "i=0\n",
    "MSindex=0\n",
    "for c in clusters:\n",
    "    if len(c)>clusterSize:\n",
    "        clusterSize=len(c)\n",
    "        MSindex=i\n",
    "    i=i+1\n",
    "mainSequenceBenchmark=clusters[MSindex]\n",
    "MSFit=np.poly1d(np.polyfit(mainSequenceBenchmark[:,0],mainSequenceBenchmark[:,1],2))\n",
    "# Transform all close points HR values\n",
    "x=closePointsNumpy[:,4].astype(np.float)\n",
    "transformedMags=closePointsNumpy[:,5].astype(np.float)-np.square(x)*MSFit.c[0]-x*MSFit.c[1]-MSFit.c[2]\n",
    "\n",
    "\n",
    "### plot transformed HR diagram\n",
    "# ax2 = clusterPlot.add_subplot(1, 2, 2)\n",
    "# plt.grid()\n",
    "# plt.scatter(x,transformedMags, color= color, marker ='x')\n",
    "\n",
    "## Transform all points data\n",
    "closePointsNumpy = np.c_[closePointsNumpy, closePointsNumpy[:,5].astype(np.float)-np.square(closePointsNumpy[:,4].astype(np.float))*MSFit.c[0]-closePointsNumpy[:,4].astype(np.float)*MSFit.c[1]-MSFit.c[2]]\n",
    "midPointsNumpy = np.c_[midPointsNumpy, midPointsNumpy[:,6].astype(np.float)-np.square(midPointsNumpy[:,4].astype(np.float))*MSFit.c[0]-midPointsNumpy[:,4].astype(np.float)*MSFit.c[1]-MSFit.c[2]]\n",
    "farPointsNumpy = np.c_[farPointsNumpy, farPointsNumpy[:,6].astype(np.float)-np.square(farPointsNumpy[:,4].astype(np.float))*MSFit.c[0]-farPointsNumpy[:,4].astype(np.float)*MSFit.c[1]-MSFit.c[2]]\n",
    "\n",
    "### cubic transformation\n",
    "# closePointsNumpy = np.c_[closePointsNumpy, closePointsNumpy[:,5].astype(np.float)-np.square(closePointsNumpy[:,4].astype(np.float))*MSFit.c[0]-closePointsNumpy[:,4].astype(np.float)*MSFit.c[1]-MSFit.c[2]]\n",
    "# midPointsNumpy = np.c_[midPointsNumpy, midPointsNumpy[:,6].astype(np.float)-np.power(midPointsNumpy[:,4].astype(np.float),3)*MSFit.c[0]-np.square(midPointsNumpy[:,4].astype(np.float))*MSFit.c[1]-midPointsNumpy[:,4].astype(np.float)*MSFit.c[2]-MSFit.c[3]]\n",
    "# farPointsNumpy = np.c_[farPointsNumpy, farPointsNumpy[:,6].astype(np.float)-np.power(farPointsNumpy[:,4].astype(np.float),3)*MSFit.c[0]-np.square(farPointsNumpy[:,4].astype(np.float))*MSFit.c[1]-farPointsNumpy[:,4].astype(np.float)*MSFit.c[2]-MSFit.c[3]]\n",
    "    "
   ]
  },
  {
   "cell_type": "markdown",
   "id": "0662b648-a120-409d-a9af-105cb005fc66",
   "metadata": {},
   "source": [
    "### investigate transformed apparent magnitude distribution"
   ]
  },
  {
   "cell_type": "code",
   "execution_count": null,
   "id": "d404f9db-3275-4ff6-ad57-14d3aa34510e",
   "metadata": {
    "jupyter": {
     "source_hidden": true
    },
    "tags": []
   },
   "outputs": [],
   "source": [
    "\n",
    "# bandwidth=np.std(mainSequenceBenchmark[:,1].reshape(-1,1))/10\n",
    "# X_plot = np.linspace(min(transformedMags)-0.1*np.abs(min(transformedMags)), max(transformedMags)+0.1*np.abs(max(transformedMags)), 1000)\n",
    "# log_dens = MSKD.score_samples(X_plot.reshape(-1, 1))\n",
    "# HRmagDensity=mpl.pyplot.figure()\n",
    "# ax1 = HRmagDensity.add_subplot(1, 1, 1)\n",
    "# kde = KernelDensity(kernel=\"gaussian\", bandwidth=bandwidth).fit(transformedMags.reshape(-1, 1))\n",
    "# log_dens = kde.score_samples(X_plot.reshape(-1, 1))\n",
    "# ax1.fill(X_plot, np.exp(log_dens), fc=\"#AAAAFF\")"
   ]
  },
  {
   "cell_type": "markdown",
   "id": "540a7ae1-5637-453f-99ee-9a5a27468059",
   "metadata": {
    "tags": []
   },
   "source": [
    "## Cluster Identification"
   ]
  },
  {
   "cell_type": "markdown",
   "id": "9b4b1da0-94bb-4576-9b00-78255cf90d26",
   "metadata": {
    "tags": []
   },
   "source": [
    "Process:\n",
    "- Use x, y in a Bayesian Gaussian mixture model (BGMM) to get proto-clusters\n",
    "- Rerun BGMM on each proto-cluster to get subclusters\n",
    "- combine subclusters that are indistinguishable in mean and main sequence position\n",
    "    - distinguishability criteria TBD"
   ]
  },
  {
   "cell_type": "markdown",
   "id": "0ff996e6-4120-49e5-944f-095c04d7823b",
   "metadata": {},
   "source": [
    "### Identify Proto-clusters"
   ]
  },
  {
   "cell_type": "code",
   "execution_count": null,
   "id": "de32951e-eaf9-4b4e-b188-23e181e6d673",
   "metadata": {
    "tags": []
   },
   "outputs": [],
   "source": [
    "# BGMM parameters\n",
    "clusterCount = 1   #initial clusterCount\n",
    "countStep = 1      #cluster count step size\n",
    "CountTrials = 1    #trials per fit\n",
    "WCP = 1            #weight_concentration_prior\n",
    "MPR = 1            #mean_precision_prior\n",
    "# Data for BGMM pror\n",
    "clusterPrior=closePointsNumpy[:,[1,2,4,5]].astype(np.float)\n",
    "# Data for BGMM\n",
    "farPoints_floats=np.concatenate([farPointsNumpy[:,[1,2,4,6,7,8]], midPointsNumpy[:,[1,2,4,6,7,8]]]).astype(np.float)\n",
    "# loop with BGMM cluster algorithm and check when some weights go to 0.\n",
    "clustersModel = (mixture.BayesianGaussianMixture(\n",
    "                tol=0.01,\n",
    "                n_components=clusterCount,\n",
    "                weight_concentration_prior=WCP,\n",
    "                mean_precision_prior=MPR,\n",
    "                covariance_type=\"full\",\n",
    "                n_init = CountTrials\n",
    "                )).fit(farPoints_floats[:,[0,1,4]])\n",
    "while min(clustersModel.weights_)>(0.01/clusterCount):\n",
    "    \n",
    "    clusterCount=clusterCount+countStep\n",
    "    \n",
    "    clustersModel = (mixture.BayesianGaussianMixture(\n",
    "                    tol=0.01,\n",
    "                    n_components=clusterCount,\n",
    "                    weight_concentration_prior=WCP, \n",
    "                    mean_precision_prior=MPR, covariance_type=\"full\",\n",
    "                    n_init = CountTrials\n",
    "                    )).fit(farPoints_floats[:,[0,1,4]])\n",
    "\n",
    "clusterShapes = clustersModel.predict(farPoints_floats[:,[0,1,4]])\n"
   ]
  },
  {
   "cell_type": "markdown",
   "id": "9906c0b2-61dc-4ae0-8505-64abee828c44",
   "metadata": {},
   "source": [
    "### Collate Individual Proto-clusters"
   ]
  },
  {
   "cell_type": "code",
   "execution_count": null,
   "id": "34d3cd70-5631-411e-bb10-d5e856fc471c",
   "metadata": {
    "tags": []
   },
   "outputs": [],
   "source": [
    "minClusterSize=10\n",
    "protoClusters=[]\n",
    "for i, weights in enumerate(clustersModel.weights_):\n",
    "    \n",
    "    if not np.any(clusterShapes == i) or weights<(0.01/clusterCount) or len(farPoints_floats[clusterShapes == i, :])<minClusterSize:\n",
    "        continue\n",
    "    protoClusters.append(farPoints_floats[clusterShapes == i, :])\n"
   ]
  },
  {
   "cell_type": "markdown",
   "id": "c51f7447-5f40-4c7e-9442-b0129374992d",
   "metadata": {
    "tags": []
   },
   "source": [
    "### Plot individual proto-clusters"
   ]
  },
  {
   "cell_type": "code",
   "execution_count": null,
   "id": "bf92d6de-eb10-486a-81aa-5376c55bff10",
   "metadata": {
    "tags": []
   },
   "outputs": [],
   "source": [
    "matplotlib.rcParams['figure.figsize']=(18,4)  \n",
    "colorCycle = itertools.cycle(sns.color_palette())\n",
    "protoclusterPlots=[]\n",
    "for i, (mean, cov, color, weights) in enumerate(zip(clustersModel.means_, clustersModel.covariances_, colorCycle, clustersModel.weights_)):\n",
    "    \n",
    "    if not np.any(clusterShapes == i) or weights<(0.01/clusterCount):\n",
    "        continue\n",
    "    v, w = sp.linalg.eigh(cov)\n",
    "    protoclusterPlots.append(mpl.pyplot.figure())\n",
    "    ### Sky map cluster plot\n",
    "    ax1 = protoclusterPlots[-1].add_subplot(1, 2, 1)\n",
    "    plt.grid()\n",
    "    plt.scatter(farPoints_floats[clusterShapes == i, 0], farPoints_floats[clusterShapes == i, 1], c= farPoints_floats[clusterShapes == i,4], cmap= 'bwr', marker ='x')\n",
    "\n",
    "    \n",
    "    ### HR diagram cluster plot\n",
    "    ax2 = protoclusterPlots[-1].add_subplot(1, 2, 2)\n",
    "    plt.grid()\n",
    "    mpl.pyplot.scatter(farPoints_floats[clusterShapes == i, 2], farPoints_floats[clusterShapes == i, 5], marker = 'x', color=color)\n",
    "    \n",
    "    yticksMajor = [-12,-10,-8, -6,-4, -2, 0]\n",
    "    xticksMajor = [-1,-0.5,0,0.5,1]\n",
    "\n",
    "    ax2.set_xticks(xticksMajor)\n",
    "    ax2.set_yticks(yticksMajor)\n",
    "\n",
    "plt.show()   "
   ]
  },
  {
   "cell_type": "code",
   "execution_count": null,
   "id": "a5e571db-80b3-4a62-9d15-d3e1e2de66f3",
   "metadata": {
    "tags": []
   },
   "outputs": [],
   "source": [
    "# # Plot the Proto-clusters on skymap and HR diagram\n",
    "# ClusterFitSkyPlot= mpl.pyplot.figure()\n",
    "# ax = ClusterFitSkyPlot.add_subplot(1, 1, 1)\n",
    "# HRFitPlot= mpl.pyplot.figure()\n",
    "# HRax = HRFitPlot.add_subplot(1, 1, 1)\n",
    "# colorCycle = itertools.cycle(sns.color_palette())\n",
    "# for i, (mean, cov, color, weights) in enumerate(zip(clustersModel.means_, clustersModel.covariances_, colorCycle, clustersModel.weights_)):\n",
    "#     v, w = sp.linalg.eigh(cov)\n",
    "#     if not np.any(clusterShapes == i) or weights<(0.01/clusterCount):\n",
    "#         continue\n",
    "#     mpl.pyplot.figure(ClusterFitSkyPlot)\n",
    "#     mpl.pyplot.sca(ax)\n",
    "#     plt.scatter(farPoints_floats[clusterShapes == i, 0], farPoints_floats[clusterShapes == i, 1], color= color, marker ='x')\n",
    "#     angle = np.arctan2(w[0][1], w[0][0])\n",
    "#     angle = 180.0 * angle / np.pi\n",
    "#     v = 2.0 * np.sqrt(2.0) * np.sqrt(v)\n",
    "#     ell = mpl.patches.Ellipse(mean, v[0], v[1], 180.0 + angle, color=color)\n",
    "#     ell.set_clip_box(ax.bbox)\n",
    "#     ell.set_alpha(weights)\n",
    "#     ax.add_artist(ell)\n",
    "    \n",
    "#     mpl.pyplot.figure(HRFitPlot)\n",
    "#     mpl.pyplot.sca(HRax)\n",
    "#     mpl.pyplot.scatter(farPoints_floats[clusterShapes == i, 2], farPoints_floats[clusterShapes == i, 3], marker = 'x', color=color)\n",
    "    \n",
    "# plt.grid()\n",
    "# mpl.pyplot.figure(ClusterFitSkyPlot)\n",
    "# mpl.pyplot.sca(ax)\n",
    "# plt.grid()\n",
    "# plt.show()   "
   ]
  },
  {
   "cell_type": "markdown",
   "id": "3c4ab9a8-cd19-4965-a962-9d5d11b94acc",
   "metadata": {},
   "source": [
    "### Seperate Proto-clusters into subclusters, isolate main sequence then collate and plot"
   ]
  },
  {
   "cell_type": "code",
   "execution_count": null,
   "id": "182fc940-64fa-4fa5-8c42-580a354c4a14",
   "metadata": {
    "tags": []
   },
   "outputs": [],
   "source": [
    "### subCluster list element structure: [points list [x,y,HRx,HRy,RV, transformed-HRy], main-sequence points array, main-sequence gaussian, area, mean, extent]\n",
    "subClusterPlots=[]\n",
    "subClusters=[]      # list of subclusters, each element: [0] is all points in subcluster, [1] is main sequence points\n",
    "totalPointsPC=0\n",
    "for cluster in protoClusters:\n",
    "    totalPointsPC=totalPointsPC+len(cluster[:,0])\n",
    "# model subclusters\n",
    "    # Subcluster parameters\n",
    "    minSubclusterSize=10 # \n",
    "    # BGMM parameters\n",
    "    clusterCount = 4   #initial clusterCount\n",
    "    countStep = 5\n",
    "    CountTrials = 4\n",
    "    WCP = 1            #weight_concentration_prior\n",
    "    MPR = 1            #mean_precision_prior\n",
    "    features=[0,1,4]\n",
    "## try splitting curent protoCluster into subClusters\n",
    "    clustersModel = (mixture.BayesianGaussianMixture(\n",
    "                    tol=0.01,\n",
    "                    n_components=clusterCount,\n",
    "                    weight_concentration_prior=WCP,\n",
    "                    mean_precision_prior=MPR,\n",
    "                    covariance_type=\"full\",\n",
    "                    n_init = CountTrials\n",
    "                    )).fit(cluster[:,features])\n",
    "    subClusterShapes = clustersModel.predict(cluster[:,features])\n",
    "# collate subclusters\n",
    "    for i, (weights) in enumerate(clustersModel.weights_):\n",
    "        if not np.any(subClusterShapes == i) or weights<(0.01/clusterCount) or len(cluster[subClusterShapes == i, :])<minSubclusterSize:\n",
    "            continue\n",
    "        # subClusters[-1].append([])\n",
    "        subClusters.append([])\n",
    "        subClusters[-1].append(cluster[subClusterShapes == i, :])\n",
    "\n",
    "        \n",
    "        \n",
    "# Isolate main sequence in each subCluster \n",
    "\n",
    "for subCluster in subClusters:\n",
    "    clusterCount=3    \n",
    "    subClustersModel = (mixture.BayesianGaussianMixture(\n",
    "                    n_components=clusterCount,\n",
    "                    covariance_type=\"full\",\n",
    "                    n_init = CountTrials\n",
    "                    )).fit(subCluster[0][:,features])\n",
    "    subClusterSequenceShapes = subClustersModel.predict(subCluster[0][:,features])\n",
    "\n",
    "    ## identified HR clusters\n",
    "    subClusterSequences=[]\n",
    "    for i, weights in enumerate(subClustersModel.weights_):\n",
    "        if not np.any(subClusterSequenceShapes == i) or weights<(0.01/clusterCount):\n",
    "            continue        \n",
    "        subClusterSequences.append(subCluster[0][subClusterSequenceShapes == i, :])\n",
    "    \n",
    "    ## get Main sequence (the one with the most points)\n",
    "    clusterSize=0\n",
    "    MSindex=0\n",
    "    for j,sequence in enumerate(subClusterSequences):\n",
    "        if len(sequence)>clusterSize:\n",
    "            clusterSize=len(sequence)\n",
    "            MSindex=j\n",
    "        \n",
    "    subCluster.append(subClusterSequences[MSindex])\n",
    "\n",
    "\n",
    "\n",
    "\n",
    "\n",
    "    \n",
    "# Calculate SubCluster Transformed main sequence HR Gaussian Kernal Densities (SCTMSHRGKD), mean, area and extent\n",
    "SCTMSHRGKD=[]         \n",
    "X_plot = np.linspace(min(farPoints_floats[:,5]),2, 1200)\n",
    "for i, subCluster in enumerate(subClusters):\n",
    "    HRy = subCluster[1][:,5].reshape(-1,1)\n",
    "    bandwidth=np.std(HRy)\n",
    "    kde = KernelDensity(kernel=\"gaussian\", bandwidth=bandwidth).fit(HRy)\n",
    "    dens =  np.exp(kde.score_samples(X_plot.reshape(-1, 1)))\n",
    "    subCluster.append(dens)\n",
    "    subCluster.append((max(subCluster[0].T[0])-min(subCluster[0].T[0]))*(max(subCluster[0].T[1])-min(subCluster[0].T[1]))) #area\n",
    "    subCluster.append((np.mean(subCluster[0].T[0]),np.mean(subCluster[0].T[1]))) #mean\n",
    "    subCluster.append((min(subCluster[0].T[0]), max(subCluster[0].T[0]), min(subCluster[0].T[1]), max(subCluster[0].T[1]))) #extent\n",
    "\n",
    "    \n",
    "# Plot subClusters\n",
    "for i, subCluster in enumerate(subClusters):\n",
    "    subClusterPlots.append(mpl.pyplot.figure())\n",
    "    ### Sky map cluster plot\n",
    "    ax1 = subClusterPlots[-1].add_subplot(1, 3, 1)\n",
    "    plt.grid()\n",
    "    mpl.pyplot.scatter(subCluster[0][:,0], subCluster[0][:,1], c= subCluster[0][:,4], cmap= 'bwr', marker ='x')\n",
    "    ### HR diagram cluster plot\n",
    "    ax2 = subClusterPlots[-1].add_subplot(1, 3, 2)\n",
    "    plt.grid()\n",
    "    mpl.pyplot.scatter(subCluster[0][:,2],subCluster[0][:,5], marker = 'x', color='blue')\n",
    "    mpl.pyplot.scatter(subCluster[1][:,2],subCluster[1][:,5], marker = '+', color='green')\n",
    "    ax3 = subClusterPlots[-1].add_subplot(1, 3, 3)\n",
    "    ax3.fill(X_plot, subCluster[2], fc=\"#AAAAFF\")\n",
    "    ax3.set_xlim(min(farPoints_floats[:,5]),2)\n",
    "    # ax3.set_ylim(0,2)\n",
    "    plt.grid()\n",
    "plt.show() "
   ]
  },
  {
   "cell_type": "markdown",
   "id": "c882772c-1c4d-4f79-bb7f-572432ac20a6",
   "metadata": {},
   "source": [
    "## Combine subclusters into clusters"
   ]
  },
  {
   "cell_type": "markdown",
   "id": "735303f8-063f-4545-b733-4719f1371a7a",
   "metadata": {},
   "source": [
    "criteria for combining:\n",
    "- smaller subcluster mean is within larger subcluster extent\n",
    "- mean of main sequence transformed apparent magnitude of each subcluster is indestinguishable according to t-distribution"
   ]
  },
  {
   "cell_type": "code",
   "execution_count": null,
   "id": "581cb9c9-b3a3-4fd8-91b2-447610303fb8",
   "metadata": {
    "tags": []
   },
   "outputs": [],
   "source": [
    "totalPointsSC1=0\n",
    "maxKS=0\n",
    "subClusters=np.array(subClusters)\n",
    "sortedSubClusters=(np.flip(subClusters[subClusters[:, 3].argsort()],axis=0)).tolist()\n",
    "for i, subCluster in enumerate(sortedSubClusters):\n",
    "    subCluster.append(i) #extent\n",
    "sortedSubClusters=np.array(sortedSubClusters)\n",
    "available=np.array([1] * len(sortedSubClusters))\n",
    "for hostCluster in sortedSubClusters:\n",
    "    if hostCluster[-1]==1:\n",
    "        # print(\"Host: \", hostCluster[-1])\n",
    "        for i, otherCluster in enumerate(sortedSubClusters[available == 1,:]):\n",
    "            # print('    other: ', otherCluster[-1], ' index: ', i)\n",
    "            if (otherCluster[-1]!=hostCluster[-1]\n",
    "                and otherCluster[4][0]>hostCluster[5][0]\n",
    "                and otherCluster[4][0]<hostCluster[5][1]\n",
    "                and otherCluster[4][1]>hostCluster[5][2]\n",
    "                and otherCluster[4][1]<hostCluster[5][3]):\n",
    "                    tTest=sp.stats.ttest_ind(hostCluster[1][:,5], otherCluster[1][:,5], axis=0, equal_var=False)\n",
    "                    # print('        ',tTest)\n",
    "                    if tTest[1]>0.05:\n",
    "                        # print('        match with ', otherCluster[-1], ' at index ', i)\n",
    "                        hostCluster[0]= np.append(hostCluster[0],otherCluster[0],axis=0)\n",
    "                        hostCluster[1]= np.append(hostCluster[1],otherCluster[1],axis=0)\n",
    "                        hostCluster[4]=(np.mean(hostCluster[0].T[0]),np.mean(hostCluster[0].T[1]))\n",
    "                        hostCluster[5]=(min(hostCluster[0].T[0]), max(hostCluster[0].T[0]), min(hostCluster[0].T[1]), max(hostCluster[0].T[1]))\n",
    "                        available[otherCluster[-1]] = 0\n",
    "clusters=sortedSubClusters[available == 1,:]\n",
    "\n",
    "        "
   ]
  },
  {
   "cell_type": "code",
   "execution_count": null,
   "id": "60d054c4-7cdb-4910-a710-1bffa53cf612",
   "metadata": {
    "tags": []
   },
   "outputs": [],
   "source": [
    "totalPointsSC2=0\n",
    "sortedSubClusters=clusters\n",
    "available=np.array([1] * len(sortedSubClusters))\n",
    "for hostCluster in sortedSubClusters:\n",
    "    if hostCluster[-1]==1:\n",
    "        totalPointsSC2=totalPointsSC2+len(hostCluster[0][:,1])\n",
    "        # print(\"Host: \", hostCluster[-1])\n",
    "        for i, otherCluster in enumerate(sortedSubClusters[available == 1,:]):\n",
    "            # print('    other: ', otherCluster[-1], ' index: ', i)\n",
    "            if (otherCluster[-1]!=hostCluster[-1]\n",
    "                and otherCluster[4][0]>hostCluster[5][0]\n",
    "                and otherCluster[4][0]<hostCluster[5][1]\n",
    "                and otherCluster[4][1]>hostCluster[5][2]\n",
    "                and otherCluster[4][1]<hostCluster[5][3]):\n",
    "                    tTest=sp.stats.ttest_ind(hostCluster[1][:,5], otherCluster[1][:,5], axis=0, equal_var=False)\n",
    "                    # print('        ',tTest)\n",
    "                    if tTest[1]>0.1:\n",
    "                        # print('        match with ', otherCluster[-1], ' at index ', i)\n",
    "                        hostCluster[0]= np.append(hostCluster[0],otherCluster[0],axis=0)\n",
    "                        hostCluster[1]= np.append(hostCluster[1],otherCluster[1],axis=0)\n",
    "                        hostCluster[4]=(np.mean(hostCluster[0].T[0]),np.mean(hostCluster[0].T[1]))\n",
    "                        hostCluster[5]=(min(hostCluster[0].T[0]), max(hostCluster[0].T[0]), min(hostCluster[0].T[1]), max(hostCluster[0].T[1]))\n",
    "                        available[otherCluster[-1]] = 0\n",
    "clusters=sortedSubClusters[available == 1,:]\n",
    "\n",
    "# create cluster stats: [mean(x,y,z),std(x,y,z),mean(radial velocity),std(radial velocity)\n",
    "totalPoints=0\n",
    "clusterStats=[]\n",
    "for cluster in clusters:\n",
    "    thisClusterPoints=len(cluster[0][:,0])\n",
    "    totalPoints=totalPoints+len(cluster[0][:,0])\n",
    "    clusterStats.append([(np.mean(cluster[0][:,0]), np.std(cluster[0][:,0])), (np.mean(cluster[0][:,1]), np.std(cluster[0][:,1])), (np.mean(np.float_power(10,(-cluster[1][:,5])/2)), np.std(np.float_power(10,(-cluster[1][:,5])/2)))])"
   ]
  },
  {
   "cell_type": "markdown",
   "id": "aca29e53-e9a1-4a7d-8af3-7a5e96cf01c6",
   "metadata": {},
   "source": [
    "### Plot final clusters"
   ]
  },
  {
   "cell_type": "code",
   "execution_count": null,
   "id": "72a959fc-10ad-4b6b-8fe5-a09e2602e2df",
   "metadata": {
    "tags": []
   },
   "outputs": [],
   "source": [
    "matplotlib.rcParams['figure.figsize']=(12,4)  \n",
    "colorCycle = itertools.cycle(sns.color_palette())\n",
    "clusterPlots=[]\n",
    "for i, (cluster, color) in enumerate(zip(clusters, colorCycle)):\n",
    "  \n",
    "    clusterPlots.append(mpl.pyplot.figure())\n",
    "    ### Sky map cluster plot\n",
    "    ax1 = clusterPlots[-1].add_subplot(1, 2, 1)\n",
    "    title='Plot ' + str(i) + ', Cluster ' + str(cluster[-1])\n",
    "    plt.title(title)\n",
    "    plt.grid()\n",
    "    plt.scatter(cluster[0][:,0], cluster[0][:,1], c= cluster[0][:,4], cmap= 'bwr', marker ='x')\n",
    "  \n",
    "    ### HR diagram cluster plot\n",
    "    ax2 = clusterPlots[-1].add_subplot(1, 2, 2)\n",
    "    plt.grid()\n",
    "    mpl.pyplot.scatter(cluster[0][:,2], cluster[0][:,5], marker = 'x', c='blue')\n",
    "    mpl.pyplot.scatter(cluster[1][:,2], cluster[1][:,5], marker = '*', color='green')\n",
    "    \n",
    "    yticksMajor = [-8, -6,-4, -2, 0]\n",
    "    xticksMajor = [-1,-0.5,0,0.5,1]\n",
    "\n",
    "    ax2.set_xticks(xticksMajor)\n",
    "    ax2.set_yticks(yticksMajor)\n",
    "\n",
    "# plt.show()   "
   ]
  },
  {
   "cell_type": "code",
   "execution_count": null,
   "id": "976de445-896a-4c4a-a66b-c863a00a8d9b",
   "metadata": {},
   "outputs": [],
   "source": [
    "farPointsNumpy\n",
    "totalPointsPC\n",
    "totalPointsSC1\n",
    "totalPointsSC2\n",
    "totalPoints"
   ]
  }
 ],
 "metadata": {
  "kernelspec": {
   "display_name": "Python 3 (ipykernel)",
   "language": "python",
   "name": "python3"
  },
  "language_info": {
   "codemirror_mode": {
    "name": "ipython",
    "version": 3
   },
   "file_extension": ".py",
   "mimetype": "text/x-python",
   "name": "python",
   "nbconvert_exporter": "python",
   "pygments_lexer": "ipython3",
   "version": "3.9.7"
  }
 },
 "nbformat": 4,
 "nbformat_minor": 5
}
