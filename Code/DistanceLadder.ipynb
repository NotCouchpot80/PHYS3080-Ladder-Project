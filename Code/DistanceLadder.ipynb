{
 "cells": [
  {
   "cell_type": "markdown",
   "id": "1922258c",
   "metadata": {},
   "source": [
    "## Setup Project\n",
    "Import used packages\n"
   ]
  },
  {
   "cell_type": "code",
   "execution_count": 1,
   "id": "73443773",
   "metadata": {},
   "outputs": [],
   "source": [
    "# import required libraries\n",
    "import os\n",
    "import numpy as np\n",
    "import scipy as sp\n",
    "import matplotlib as mpl\n",
    "from astropy.table import Table\n",
    "import glob\n",
    "import warnings\n",
    "from sklearn.mixture import GaussianMixture\n",
    "\n"
   ]
  },
  {
   "cell_type": "markdown",
   "id": "2998e50d-c85e-48d2-bc75-b63ab8d3cc3b",
   "metadata": {},
   "source": [
    "Setup global plot settings"
   ]
  },
  {
   "cell_type": "code",
   "execution_count": 2,
   "id": "00b102b3-5bd6-4e0d-8deb-d3eb7269c216",
   "metadata": {},
   "outputs": [
    {
     "name": "stdout",
     "output_type": "stream",
     "text": [
      "Populating the interactive namespace from numpy and matplotlib\n"
     ]
    }
   ],
   "source": [
    "\n",
    "# configure notebook for plotting\n",
    "%pylab inline --no-import-all \n",
    "mpl.style.use('seaborn-colorblind') # colourblind-friendly colour scheme\n",
    "colours = mpl.rcParams['axes.prop_cycle'].by_key()['color'] # allows access to colours\n",
    "# subsequent lines default plot settings\n",
    "matplotlib.rcParams['image.origin'] = 'lower'\n",
    "matplotlib.rcParams['figure.figsize']=(8.0,6.0)    \n",
    "matplotlib.rcParams['font.size']=16                \n",
    "matplotlib.rcParams['savefig.dpi']= 300              \n",
    "warnings.filterwarnings('ignore')\n"
   ]
  },
  {
   "cell_type": "markdown",
   "id": "6cc52b5c-5706-488e-a7e1-6834d04a88d5",
   "metadata": {},
   "source": [
    "## Data entry and categorisation\n",
    "Enter data file location and initiate variables"
   ]
  },
  {
   "cell_type": "code",
   "execution_count": 3,
   "id": "ad6d93b9",
   "metadata": {},
   "outputs": [],
   "source": [
    "\n",
    "# import data from Data directory\n",
    "allPointsFiles = glob.glob('../Data/*/*/points.txt')\n",
    "allFuzzyFiles = glob.glob('../Data/*/*/fuzzy.txt')\n",
    "allVaryingPointFiles = glob.glob('../Data/*/*/P*.csv')\n",
    "allXrayFiles = glob.glob('../Data/XrayFlash.txt')\n",
    "farPoints = []\n",
    "closePoints = []\n",
    "variablePoints = []\n",
    "xRayPoints = []\n",
    "totalPoints = 0\n"
   ]
  },
  {
   "cell_type": "markdown",
   "id": "e9b8f216-cc18-493e-aa3c-22fb741f2fe3",
   "metadata": {},
   "source": [
    "### Categorise and process Points\n",
    "Iterate through points files and categorize points into close and far points, where close points can be measured by parallax accurately.\\\n",
    "Convert to useful data types in process."
   ]
  },
  {
   "cell_type": "code",
   "execution_count": 4,
   "id": "a0aa816b-0134-4a59-98af-c22a8b8fbcce",
   "metadata": {},
   "outputs": [],
   "source": [
    "for j, pointsFile in enumerate(allPointsFiles):\n",
    "    try:\n",
    "        this = Table.read(pointsFile,format='ascii')\n",
    "        totalPoints= totalPoints+len(this)\n",
    "        thispar = this['par']\n",
    "        thism0, thism1, thism2 = (np.log10(this['flux1']), \n",
    "                                  np.log10(this['flux2']), \n",
    "                                  np.log10(this['flux3']))\n",
    "        thiscolour = thism2-thism0\n",
    "        dist = 1/thispar\n",
    "        abs_mag = thism1 + 2*np.log10(dist)\n",
    "        \n",
    "        # transform coords onto \"sky net\" based on file path and store in numpy array          \n",
    "        if pointsFile.rfind('Up')!=-1:\n",
    "            points = np.array([this['name'], this['y'], -this['x']+90, thispar, thiscolour, abs_mag, this['rv']]).T.tolist()\n",
    "        elif pointsFile.rfind('Front')!=-1:\n",
    "            points = np.array([this['name'], this['y']-90, -this['x']+90, thispar, thiscolour, abs_mag, this['rv']]).T.tolist()\n",
    "        elif pointsFile.rfind('Right')!=-1:\n",
    "            points = np.array([this['name'], this['x'], this['y'], thispar, thiscolour, abs_mag, this['rv']]).T.tolist()\n",
    "        elif pointsFile.rfind('Back')!=-1:\n",
    "            points = np.array([this['name'], this['x']+90, this['y'], thispar, thiscolour, abs_mag, this['rv']]).T.tolist()\n",
    "        elif pointsFile.rfind('Left')!=-1:\n",
    "            points = np.array([this['name'], this['y']-90, -this['x']+180, thispar, thiscolour, abs_mag, this['rv']]).T.tolist()\n",
    "        elif pointsFile.rfind('Down')!=-1:\n",
    "            points = np.array([this['name'], this['y'], -this['x']-90, thispar, thiscolour, abs_mag, this['rv']]).T.tolist()\n",
    "            \n",
    "        # sort into close and far\n",
    "        for point in points:\n",
    "            if float(point[3]) > 0.01:\n",
    "                closePoints.append(point)\n",
    "            else:\n",
    "                farPoints.append(point)                \n",
    "    except:\n",
    "        pass\n",
    "closePointsNumpy=np.array(closePoints)\n",
    "farPointsNumpy=np.array(farPoints)"
   ]
  },
  {
   "cell_type": "markdown",
   "id": "71eb5920-f64e-494a-87e1-786ebcbf789d",
   "metadata": {},
   "source": [
    "### Categorise Fuzzies\n",
    "A similar process as used on the points data"
   ]
  },
  {
   "cell_type": "markdown",
   "id": "62598260-c1c0-4a27-9964-6564ff5712f3",
   "metadata": {},
   "source": [
    "### Categorise Xray flashes\n"
   ]
  },
  {
   "cell_type": "code",
   "execution_count": 5,
   "id": "5a93e5ad-edc3-4616-b602-f124cef2b049",
   "metadata": {},
   "outputs": [],
   "source": [
    "for j, XrayFiles in enumerate(allXrayFiles):\n",
    "    try:\n",
    "        this = Table.read(XrayFiles,format='ascii')\n",
    "        for line in this:\n",
    "            # transform coords onto \"sky net\" based on file path and store in numpy array          \n",
    "            if line['Camera']==('Up'):\n",
    "                Xrays = np.array([line['y'], -line['x']+90, line['mag']]).T.tolist()\n",
    "            elif line['Camera']==('Front'):\n",
    "                Xrays = np.array([ line['y']-90, -line['x']+90, line['mag']]).T.tolist()\n",
    "            elif line['Camera']==('Right'):\n",
    "                Xrays = np.array([ line['x'], line['y'], line['mag']]).T.tolist()\n",
    "            elif line['Camera']==('Back'):\n",
    "                Xrays = np.array([line['x']+90, line['y'], line['mag']]).T.tolist()\n",
    "            elif line['Camera']==('Left'):\n",
    "                Xrays = np.array([ line['y']-90, -line['x']+180, line['mag']]).T.tolist()\n",
    "            elif line['Camera']==('Down'):\n",
    "                Xrays = np.array([ line['y'], -line['x']-90, line['mag']]).T.tolist()\n",
    "\n",
    "            xRayPoints.append(Xrays)\n",
    "    except:\n",
    "        pass\n",
    "xRayPointsNumpy=np.array(xRayPoints)"
   ]
  },
  {
   "cell_type": "markdown",
   "id": "38034a6a-b27b-4e97-95e2-2e1df53fb939",
   "metadata": {},
   "source": [
    "## Initial Plots\n",
    "A star map to check all are present, a benchmark HR diagram and a cluster map."
   ]
  },
  {
   "cell_type": "markdown",
   "id": "1c16eab4-3c8e-40f3-a4b2-775a1f8dc5d3",
   "metadata": {},
   "source": [
    "### HR benchmark"
   ]
  },
  {
   "cell_type": "code",
   "execution_count": 6,
   "id": "6ad85839-12e0-4f49-bede-8f4776a2e6e1",
   "metadata": {},
   "outputs": [
    {
     "data": {
      "text/plain": [
       "<matplotlib.collections.PathCollection at 0x1aee2a143a0>"
      ]
     },
     "execution_count": 6,
     "metadata": {},
     "output_type": "execute_result"
    },
    {
     "data": {
      "image/png": "[encoded data removed]",
      "text/plain": [
       "<Figure size 576x432 with 1 Axes>"
      ]
     },
     "metadata": {
      "needs_background": "light"
     },
     "output_type": "display_data"
    }
   ],
   "source": [
    "\n",
    "# figure for HR diagram benchmark\n",
    "figHRBenchMark = plt.figure()\n",
    "plt.ylabel('Absolute magnitude')\n",
    "plt.xlabel('Log Flux 2 - Log Flux 0')\n",
    "plt.title('Benchmark Points')\n",
    "plt.scatter((closePointsNumpy.T)[4].astype(np.float),(closePointsNumpy.T)[5].astype(np.float))\n"
   ]
  },
  {
   "cell_type": "markdown",
   "id": "cd20fc0d-c5e7-4a03-949e-48573dd608e8",
   "metadata": {},
   "source": [
    "### Sky Net"
   ]
  },
  {
   "cell_type": "code",
   "execution_count": 7,
   "id": "2ddfdc76-3031-42e9-9834-d10dd377111e",
   "metadata": {},
   "outputs": [
    {
     "data": {
      "image/png": "[encoded data removed]",
      "text/plain": [
       "<Figure size 576x432 with 1 Axes>"
      ]
     },
     "metadata": {
      "needs_background": "light"
     },
     "output_type": "display_data"
    }
   ],
   "source": [
    "# figure for HR diagram benchmark\n",
    "skyNet= plt.figure()\n",
    "ax = skyNet.add_subplot(1, 1, 1)\n",
    "plt.ylabel('y')\n",
    "plt.xlabel('x')\n",
    "plt.title('Sky Net')\n",
    "plt.scatter((farPointsNumpy.T)[1].astype(np.float),(farPointsNumpy.T)[2].astype(np.float), marker = 'x')\n",
    "plt.scatter((xRayPointsNumpy.T)[0].astype(np.float),(xRayPointsNumpy.T)[1].astype(np.float), marker = 'o')\n",
    "yticksMajor = [-135,-45,45,135,225]\n",
    "yticksMinor = [-90,0,90,180]\n",
    "xticksMajor = [-135,-45,45]\n",
    "xticksMinor = [-90,0]\n",
    "\n",
    "ax.set_xticks(xticksMajor)\n",
    "ax.set_yticks(yticksMajor)\n",
    "ax.set_xticks(xticksMinor, minor=True)\n",
    "ax.set_yticks(yticksMinor, minor=True)\n",
    "plt.grid()"
   ]
  },
  {
   "cell_type": "markdown",
   "id": "8383753d-815c-49ec-80ab-370eb12a3b1b",
   "metadata": {},
   "source": [
    "## Identify all point clusters"
   ]
  },
  {
   "cell_type": "code",
   "execution_count": 8,
   "id": "aa39a37b-fee3-47be-8b81-45b1be8896ef",
   "metadata": {},
   "outputs": [],
   "source": [
    "ClustersModel = GaussianMixture(covariance_type=\"full\").fit_predict(farPointsNumpy[:,[1,2]])\n",
    "\n"
   ]
  },
  {
   "cell_type": "code",
   "execution_count": 9,
   "id": "1da2db3c-e068-4117-9974-38c6c9f7e862",
   "metadata": {},
   "outputs": [],
   "source": [
    "\n",
    "# figure for HR diagram benchmark\n",
    "#figHRBenchMark = plt.figure()\n",
    "#plt.ylabel('Absolute magnitude')\n",
    "#plt.xlabel('Log Flux 2 - Log Flux 0')\n",
    "#plt.title('far Points')\n",
    "#plt.scatter((farPointsNumpy.T)[4].astype(np.float),(farPointsNumpy.T)[5].astype(np.float), marker='x')"
   ]
  },
  {
   "cell_type": "code",
   "execution_count": null,
   "id": "6443587e-a327-41c6-99f1-ee30eaa4b5b4",
   "metadata": {},
   "outputs": [],
   "source": []
  }
 ],
 "metadata": {
  "kernelspec": {
   "display_name": "Python 3 (ipykernel)",
   "language": "python",
   "name": "python3"
  },
  "language_info": {
   "codemirror_mode": {
    "name": "ipython",
    "version": 3
   },
   "file_extension": ".py",
   "mimetype": "text/x-python",
   "name": "python",
   "nbconvert_exporter": "python",
   "pygments_lexer": "ipython3",
   "version": "3.9.7"
  }
 },
 "nbformat": 4,
 "nbformat_minor": 5
}
